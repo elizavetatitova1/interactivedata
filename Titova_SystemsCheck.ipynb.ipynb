{
 "cells": [
  {
   "cell_type": "markdown",
   "id": "1f4939c4-2eb1-440a-a8dd-db575bb82ae0",
   "metadata": {},
   "source": [
    "# Systems check (heading 1)"
   ]
  },
  {
   "cell_type": "markdown",
   "id": "dd7d5f85-e36b-43ac-b793-538cf8a2f1ea",
   "metadata": {},
   "source": [
    "## Elizaveta Titova (heading 2)\n",
    "### 8/20/2024 (heading 3)"
   ]
  },
  {
   "cell_type": "markdown",
   "id": "e06e678c-ff9d-4aac-bf5c-9d30b4feb047",
   "metadata": {},
   "source": [
    "## Ordered list\n",
    "* Python\n",
    "* R \n",
    "* Jupyter notebook"
   ]
  },
  {
   "cell_type": "markdown",
   "id": "379cdb00-1da7-4ab9-8126-c53b0b8d8de0",
   "metadata": {},
   "source": [
    "### Another ordered list of what i want to learn in this class\n",
    "1. Use of jupyter notebook\n",
    "2. how to use different interactive data tools\n",
    "3. data storytelling"
   ]
  },
  {
   "cell_type": "markdown",
   "id": "e2794eeb-11dd-4cbc-accc-bbecb7bf5640",
   "metadata": {},
   "source": [
    "*Trying to insert an image next (italic text)*"
   ]
  },
  {
   "cell_type": "markdown",
   "id": "b99c5d1c-4378-4079-ba49-b4a1e1474c55",
   "metadata": {},
   "source": [
    "**Image of kent state logo**"
   ]
  },
  {
   "cell_type": "markdown",
   "id": "2218ab24-7dab-4ba0-972a-0b135845f40e",
   "metadata": {},
   "source": [
    "![Image](https://upload.wikimedia.org/wikipedia/commons/f/f3/Kent_State_K_logo.png)"
   ]
  },
  {
   "cell_type": "code",
   "execution_count": 21,
   "id": "9ee9268f-5953-4c9b-9e65-5e27a641552a",
   "metadata": {},
   "outputs": [],
   "source": [
    "my_list= [2,3,4,5]"
   ]
  },
  {
   "cell_type": "code",
   "execution_count": 22,
   "id": "e5abfde1-74ba-4c42-b894-e4fe292e9a98",
   "metadata": {},
   "outputs": [
    {
     "data": {
      "text/plain": [
       "2"
      ]
     },
     "execution_count": 22,
     "metadata": {},
     "output_type": "execute_result"
    }
   ],
   "source": [
    "my_list[0]"
   ]
  },
  {
   "cell_type": "code",
   "execution_count": 23,
   "id": "30e6fa32-2604-4f18-9dc2-0839e0ad907f",
   "metadata": {},
   "outputs": [],
   "source": [
    "my_name = \"Elizaveta\""
   ]
  },
  {
   "cell_type": "code",
   "execution_count": 24,
   "id": "f77092dc-d4a5-4e36-86f8-6ab01b1aac0f",
   "metadata": {},
   "outputs": [],
   "source": [
    "def display_name(x):\n",
    "    print(x)"
   ]
  },
  {
   "cell_type": "code",
   "execution_count": 25,
   "id": "a6210138-a181-4a90-9e02-a790e4bb1075",
   "metadata": {},
   "outputs": [
    {
     "name": "stdout",
     "output_type": "stream",
     "text": [
      "Elizaveta\n"
     ]
    }
   ],
   "source": [
    "display_name(my_name)"
   ]
  },
  {
   "cell_type": "code",
   "execution_count": 26,
   "id": "75af9ff4-b63d-4b3d-a7c1-1cd210129c78",
   "metadata": {},
   "outputs": [],
   "source": [
    "def change_name(x):\n",
    "    new_name= x + 'new'\n",
    "    return new_name"
   ]
  },
  {
   "cell_type": "code",
   "execution_count": 27,
   "id": "fe36db6a-4f49-4a41-aaf7-fc028fd1bd79",
   "metadata": {},
   "outputs": [
    {
     "data": {
      "text/plain": [
       "'Elizaveta_new'"
      ]
     },
     "execution_count": 27,
     "metadata": {},
     "output_type": "execute_result"
    }
   ],
   "source": [
    "changed_name=change_name('Elizaveta_')\n",
    "changed_name\n"
   ]
  }
 ],
 "metadata": {
  "kernelspec": {
   "display_name": "Python 3 (ipykernel)",
   "language": "python",
   "name": "python3"
  },
  "language_info": {
   "codemirror_mode": {
    "name": "ipython",
    "version": 3
   },
   "file_extension": ".py",
   "mimetype": "text/x-python",
   "name": "python",
   "nbconvert_exporter": "python",
   "pygments_lexer": "ipython3",
   "version": "3.12.4"
  }
 },
 "nbformat": 4,
 "nbformat_minor": 5
}
