{
 "cells": [
  {
   "cell_type": "markdown",
   "id": "3932b304-555c-4cf6-9a5b-8fa316fcad7a",
   "metadata": {},
   "source": [
    "# Systems check"
   ]
  },
  {
   "cell_type": "markdown",
   "id": "394695b2-8749-4234-87d4-58af45c48c95",
   "metadata": {},
   "source": [
    "# Elizaveta Titova\n",
    "# 8/20/2024"
   ]
  },
  {
   "cell_type": "markdown",
   "id": "849dd8ef-f812-4dfd-909c-70effaf86117",
   "metadata": {},
   "source": []
  },
  {
   "cell_type": "code",
   "execution_count": 11,
   "id": "dc68e571-9aac-4bb6-ba21-9910607afb9e",
   "metadata": {},
   "outputs": [],
   "source": [
    "my_list= [2,3,4,5]"
   ]
  },
  {
   "cell_type": "code",
   "execution_count": 12,
   "id": "38e5b4ab-936f-43b5-9048-c8da28990e67",
   "metadata": {},
   "outputs": [
    {
     "data": {
      "text/plain": [
       "[2, 3, 4, 5]"
      ]
     },
     "execution_count": 12,
     "metadata": {},
     "output_type": "execute_result"
    }
   ],
   "source": [
    "my_list"
   ]
  },
  {
   "cell_type": "code",
   "execution_count": 13,
   "id": "e5abfde1-74ba-4c42-b894-e4fe292e9a98",
   "metadata": {},
   "outputs": [
    {
     "data": {
      "text/plain": [
       "2"
      ]
     },
     "execution_count": 13,
     "metadata": {},
     "output_type": "execute_result"
    }
   ],
   "source": [
    "my_list[0]"
   ]
  },
  {
   "cell_type": "code",
   "execution_count": 14,
   "id": "30e6fa32-2604-4f18-9dc2-0839e0ad907f",
   "metadata": {},
   "outputs": [],
   "source": [
    "my_name = \"Elizaveta\""
   ]
  },
  {
   "cell_type": "code",
   "execution_count": 15,
   "id": "f77092dc-d4a5-4e36-86f8-6ab01b1aac0f",
   "metadata": {},
   "outputs": [],
   "source": [
    "def display_name(x):\n",
    "    print(x)"
   ]
  },
  {
   "cell_type": "code",
   "execution_count": 16,
   "id": "a6210138-a181-4a90-9e02-a790e4bb1075",
   "metadata": {},
   "outputs": [
    {
     "name": "stdout",
     "output_type": "stream",
     "text": [
      "Elizaveta\n"
     ]
    }
   ],
   "source": [
    "display_name(my_name)"
   ]
  },
  {
   "cell_type": "code",
   "execution_count": 17,
   "id": "75af9ff4-b63d-4b3d-a7c1-1cd210129c78",
   "metadata": {},
   "outputs": [],
   "source": [
    "def change_name(x):\n",
    "    new_name= x + 'new'\n",
    "    return new_name"
   ]
  },
  {
   "cell_type": "code",
   "execution_count": 18,
   "id": "fe36db6a-4f49-4a41-aaf7-fc028fd1bd79",
   "metadata": {},
   "outputs": [
    {
     "data": {
      "text/plain": [
       "'Elizaveta_new'"
      ]
     },
     "execution_count": 18,
     "metadata": {},
     "output_type": "execute_result"
    }
   ],
   "source": [
    "changed_name=change_name('Elizaveta_')\n",
    "changed_name\n"
   ]
  }
 ],
 "metadata": {
  "kernelspec": {
   "display_name": "Python 3 (ipykernel)",
   "language": "python",
   "name": "python3"
  },
  "language_info": {
   "codemirror_mode": {
    "name": "ipython",
    "version": 3
   },
   "file_extension": ".py",
   "mimetype": "text/x-python",
   "name": "python",
   "nbconvert_exporter": "python",
   "pygments_lexer": "ipython3",
   "version": "3.12.4"
  }
 },
 "nbformat": 4,
 "nbformat_minor": 5
}
