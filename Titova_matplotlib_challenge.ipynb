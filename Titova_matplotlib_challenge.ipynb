{
 "cells": [
  {
   "cell_type": "markdown",
   "id": "fbe9f3e6-2421-41cd-8877-0c5ee1efc640",
   "metadata": {},
   "source": [
    "## Elizaveta Titova "
   ]
  },
  {
   "cell_type": "code",
   "execution_count": 32,
   "id": "3df6dc7a-1ca9-4669-98c3-185630f75ec0",
   "metadata": {},
   "outputs": [],
   "source": [
    "import pandas as pd \n",
    "import matplotlib.pyplot as plt"
   ]
  },
  {
   "cell_type": "markdown",
   "id": "c51241e1-a252-415a-a6a3-cc338dcb2756",
   "metadata": {},
   "source": [
    "*A heatmap,\n",
    "i would love to learn how to create a interactive heatmap. Since i have my bachelors in logistics and now im pursuing my masters in Business Analytics i would love to use some supply chain data to create a heatmap. For example, in supply chain analytics, monitoring inventory levels is crucial to ensuring that stock is adequately distributed across warehouses or stores. When displaying inventory levels over time across several locations, a heatmap can be a useful tool as it provides a comprehensive overview of stock management and highlights areas that may require adjustments. It is feasible to compare stock levels quickly and easily with the use of color gradients, which makes it simple to identify patterns like shortages or surpluses. You can adjust the color intensity of a particular warehouse or time period and fade out the others to improve this visualization. For more in-depth insights, numerical values can be added straight to the heatmap cells, such as precise inventory counts.*"
   ]
  },
  {
   "cell_type": "code",
   "execution_count": 33,
   "id": "f3c55584-f64b-4c56-b575-bbf0572b6c53",
   "metadata": {},
   "outputs": [],
   "source": [
    "df = pd.read_csv('cces_example_data.csv')"
   ]
  },
  {
   "cell_type": "code",
   "execution_count": 34,
   "id": "07b867f0-f78d-40d5-ac31-4e7c7c9a2b92",
   "metadata": {},
   "outputs": [
    {
     "data": {
      "text/html": [
       "<div>\n",
       "<style scoped>\n",
       "    .dataframe tbody tr th:only-of-type {\n",
       "        vertical-align: middle;\n",
       "    }\n",
       "\n",
       "    .dataframe tbody tr th {\n",
       "        vertical-align: top;\n",
       "    }\n",
       "\n",
       "    .dataframe thead th {\n",
       "        text-align: right;\n",
       "    }\n",
       "</style>\n",
       "<table border=\"1\" class=\"dataframe\">\n",
       "  <thead>\n",
       "    <tr style=\"text-align: right;\">\n",
       "      <th></th>\n",
       "      <th>pew_religimp</th>\n",
       "      <th>pew_churatd</th>\n",
       "      <th>sex</th>\n",
       "      <th>educ</th>\n",
       "      <th>nonwhite</th>\n",
       "      <th>age</th>\n",
       "      <th>faminc_new</th>\n",
       "      <th>pid3</th>\n",
       "      <th>ideo5</th>\n",
       "      <th>QueerPhobia</th>\n",
       "      <th>...</th>\n",
       "      <th>InterGBiasParty</th>\n",
       "      <th>InterGBiasCand</th>\n",
       "      <th>InterGBiasSup</th>\n",
       "      <th>LibMediaUse</th>\n",
       "      <th>ConMediaUse</th>\n",
       "      <th>Real_Threat</th>\n",
       "      <th>Symb_Threat</th>\n",
       "      <th>Evaluation</th>\n",
       "      <th>teamweight</th>\n",
       "      <th>caseid</th>\n",
       "    </tr>\n",
       "  </thead>\n",
       "  <tbody>\n",
       "    <tr>\n",
       "      <th>0</th>\n",
       "      <td>2</td>\n",
       "      <td>6</td>\n",
       "      <td>2</td>\n",
       "      <td>2</td>\n",
       "      <td>1</td>\n",
       "      <td>56</td>\n",
       "      <td>6</td>\n",
       "      <td>1</td>\n",
       "      <td>1</td>\n",
       "      <td>1.000000</td>\n",
       "      <td>...</td>\n",
       "      <td>-99</td>\n",
       "      <td>-99</td>\n",
       "      <td>-96</td>\n",
       "      <td>2.666667</td>\n",
       "      <td>1.000000</td>\n",
       "      <td>5.00</td>\n",
       "      <td>4.857143</td>\n",
       "      <td>0</td>\n",
       "      <td>0.505028</td>\n",
       "      <td>1231308943</td>\n",
       "    </tr>\n",
       "    <tr>\n",
       "      <th>1</th>\n",
       "      <td>2</td>\n",
       "      <td>4</td>\n",
       "      <td>2</td>\n",
       "      <td>5</td>\n",
       "      <td>1</td>\n",
       "      <td>53</td>\n",
       "      <td>13</td>\n",
       "      <td>1</td>\n",
       "      <td>2</td>\n",
       "      <td>3.000000</td>\n",
       "      <td>...</td>\n",
       "      <td>-100</td>\n",
       "      <td>-100</td>\n",
       "      <td>-100</td>\n",
       "      <td>2.000000</td>\n",
       "      <td>2.000000</td>\n",
       "      <td>5.00</td>\n",
       "      <td>5.000000</td>\n",
       "      <td>0</td>\n",
       "      <td>0.852381</td>\n",
       "      <td>1232300315</td>\n",
       "    </tr>\n",
       "    <tr>\n",
       "      <th>2</th>\n",
       "      <td>1</td>\n",
       "      <td>2</td>\n",
       "      <td>1</td>\n",
       "      <td>2</td>\n",
       "      <td>1</td>\n",
       "      <td>69</td>\n",
       "      <td>10</td>\n",
       "      <td>2</td>\n",
       "      <td>5</td>\n",
       "      <td>4.333333</td>\n",
       "      <td>...</td>\n",
       "      <td>99</td>\n",
       "      <td>99</td>\n",
       "      <td>96</td>\n",
       "      <td>1.000000</td>\n",
       "      <td>1.000000</td>\n",
       "      <td>5.00</td>\n",
       "      <td>5.000000</td>\n",
       "      <td>2</td>\n",
       "      <td>1.320189</td>\n",
       "      <td>1232358697</td>\n",
       "    </tr>\n",
       "    <tr>\n",
       "      <th>3</th>\n",
       "      <td>2</td>\n",
       "      <td>3</td>\n",
       "      <td>1</td>\n",
       "      <td>6</td>\n",
       "      <td>1</td>\n",
       "      <td>76</td>\n",
       "      <td>97</td>\n",
       "      <td>1</td>\n",
       "      <td>3</td>\n",
       "      <td>1.000000</td>\n",
       "      <td>...</td>\n",
       "      <td>-86</td>\n",
       "      <td>-91</td>\n",
       "      <td>-89</td>\n",
       "      <td>4.666667</td>\n",
       "      <td>1.333333</td>\n",
       "      <td>4.25</td>\n",
       "      <td>4.428571</td>\n",
       "      <td>0</td>\n",
       "      <td>0.519198</td>\n",
       "      <td>1232540961</td>\n",
       "    </tr>\n",
       "    <tr>\n",
       "      <th>4</th>\n",
       "      <td>4</td>\n",
       "      <td>5</td>\n",
       "      <td>2</td>\n",
       "      <td>6</td>\n",
       "      <td>1</td>\n",
       "      <td>83</td>\n",
       "      <td>4</td>\n",
       "      <td>1</td>\n",
       "      <td>2</td>\n",
       "      <td>1.000000</td>\n",
       "      <td>...</td>\n",
       "      <td>-80</td>\n",
       "      <td>-88</td>\n",
       "      <td>-87</td>\n",
       "      <td>4.666667</td>\n",
       "      <td>3.666667</td>\n",
       "      <td>4.25</td>\n",
       "      <td>5.000000</td>\n",
       "      <td>0</td>\n",
       "      <td>1.154005</td>\n",
       "      <td>1232580601</td>\n",
       "    </tr>\n",
       "  </tbody>\n",
       "</table>\n",
       "<p>5 rows × 21 columns</p>\n",
       "</div>"
      ],
      "text/plain": [
       "   pew_religimp  pew_churatd  sex  educ  nonwhite  age  faminc_new  pid3  \\\n",
       "0             2            6    2     2         1   56           6     1   \n",
       "1             2            4    2     5         1   53          13     1   \n",
       "2             1            2    1     2         1   69          10     2   \n",
       "3             2            3    1     6         1   76          97     1   \n",
       "4             4            5    2     6         1   83           4     1   \n",
       "\n",
       "   ideo5  QueerPhobia  ...  InterGBiasParty  InterGBiasCand  InterGBiasSup  \\\n",
       "0      1     1.000000  ...              -99             -99            -96   \n",
       "1      2     3.000000  ...             -100            -100           -100   \n",
       "2      5     4.333333  ...               99              99             96   \n",
       "3      3     1.000000  ...              -86             -91            -89   \n",
       "4      2     1.000000  ...              -80             -88            -87   \n",
       "\n",
       "   LibMediaUse  ConMediaUse  Real_Threat  Symb_Threat  Evaluation  teamweight  \\\n",
       "0     2.666667     1.000000         5.00     4.857143           0    0.505028   \n",
       "1     2.000000     2.000000         5.00     5.000000           0    0.852381   \n",
       "2     1.000000     1.000000         5.00     5.000000           2    1.320189   \n",
       "3     4.666667     1.333333         4.25     4.428571           0    0.519198   \n",
       "4     4.666667     3.666667         4.25     5.000000           0    1.154005   \n",
       "\n",
       "       caseid  \n",
       "0  1231308943  \n",
       "1  1232300315  \n",
       "2  1232358697  \n",
       "3  1232540961  \n",
       "4  1232580601  \n",
       "\n",
       "[5 rows x 21 columns]"
      ]
     },
     "execution_count": 34,
     "metadata": {},
     "output_type": "execute_result"
    }
   ],
   "source": [
    "df.head()"
   ]
  },
  {
   "cell_type": "code",
   "execution_count": 35,
   "id": "536b8072-66ed-4870-a01a-952cdcd89baa",
   "metadata": {},
   "outputs": [
    {
     "data": {
      "text/html": [
       "<div>\n",
       "<style scoped>\n",
       "    .dataframe tbody tr th:only-of-type {\n",
       "        vertical-align: middle;\n",
       "    }\n",
       "\n",
       "    .dataframe tbody tr th {\n",
       "        vertical-align: top;\n",
       "    }\n",
       "\n",
       "    .dataframe thead th {\n",
       "        text-align: right;\n",
       "    }\n",
       "</style>\n",
       "<table border=\"1\" class=\"dataframe\">\n",
       "  <thead>\n",
       "    <tr style=\"text-align: right;\">\n",
       "      <th></th>\n",
       "      <th>pew_religimp</th>\n",
       "      <th>pew_churatd</th>\n",
       "      <th>sex</th>\n",
       "      <th>educ</th>\n",
       "      <th>nonwhite</th>\n",
       "      <th>age</th>\n",
       "      <th>faminc_new</th>\n",
       "      <th>pid3</th>\n",
       "      <th>ideo5</th>\n",
       "      <th>QueerPhobia</th>\n",
       "      <th>...</th>\n",
       "      <th>InterGBiasParty</th>\n",
       "      <th>InterGBiasCand</th>\n",
       "      <th>InterGBiasSup</th>\n",
       "      <th>LibMediaUse</th>\n",
       "      <th>ConMediaUse</th>\n",
       "      <th>Real_Threat</th>\n",
       "      <th>Symb_Threat</th>\n",
       "      <th>Evaluation</th>\n",
       "      <th>teamweight</th>\n",
       "      <th>caseid</th>\n",
       "    </tr>\n",
       "  </thead>\n",
       "  <tbody>\n",
       "    <tr>\n",
       "      <th>count</th>\n",
       "      <td>659.000000</td>\n",
       "      <td>659.000000</td>\n",
       "      <td>659.000000</td>\n",
       "      <td>659.000000</td>\n",
       "      <td>659.000000</td>\n",
       "      <td>659.000000</td>\n",
       "      <td>659.000000</td>\n",
       "      <td>659.000000</td>\n",
       "      <td>659.000000</td>\n",
       "      <td>659.000000</td>\n",
       "      <td>...</td>\n",
       "      <td>659.000000</td>\n",
       "      <td>659.000000</td>\n",
       "      <td>659.000000</td>\n",
       "      <td>659.000000</td>\n",
       "      <td>659.000000</td>\n",
       "      <td>659.000000</td>\n",
       "      <td>659.000000</td>\n",
       "      <td>659.000000</td>\n",
       "      <td>659.000000</td>\n",
       "      <td>6.590000e+02</td>\n",
       "    </tr>\n",
       "    <tr>\n",
       "      <th>mean</th>\n",
       "      <td>2.342944</td>\n",
       "      <td>4.294385</td>\n",
       "      <td>1.559939</td>\n",
       "      <td>3.813354</td>\n",
       "      <td>1.254932</td>\n",
       "      <td>52.180577</td>\n",
       "      <td>15.908953</td>\n",
       "      <td>1.977238</td>\n",
       "      <td>3.083460</td>\n",
       "      <td>2.600910</td>\n",
       "      <td>...</td>\n",
       "      <td>-8.842185</td>\n",
       "      <td>-11.842185</td>\n",
       "      <td>-12.740516</td>\n",
       "      <td>2.551846</td>\n",
       "      <td>2.361659</td>\n",
       "      <td>3.792109</td>\n",
       "      <td>3.937785</td>\n",
       "      <td>0.886191</td>\n",
       "      <td>0.960561</td>\n",
       "      <td>1.242790e+09</td>\n",
       "    </tr>\n",
       "    <tr>\n",
       "      <th>std</th>\n",
       "      <td>1.192998</td>\n",
       "      <td>1.725409</td>\n",
       "      <td>0.496771</td>\n",
       "      <td>1.471121</td>\n",
       "      <td>0.436154</td>\n",
       "      <td>16.842264</td>\n",
       "      <td>27.724506</td>\n",
       "      <td>0.860002</td>\n",
       "      <td>1.282575</td>\n",
       "      <td>1.163468</td>\n",
       "      <td>...</td>\n",
       "      <td>66.363025</td>\n",
       "      <td>76.647176</td>\n",
       "      <td>73.005149</td>\n",
       "      <td>1.370851</td>\n",
       "      <td>1.279250</td>\n",
       "      <td>1.108405</td>\n",
       "      <td>0.966180</td>\n",
       "      <td>1.056507</td>\n",
       "      <td>0.588837</td>\n",
       "      <td>6.136802e+06</td>\n",
       "    </tr>\n",
       "    <tr>\n",
       "      <th>min</th>\n",
       "      <td>1.000000</td>\n",
       "      <td>1.000000</td>\n",
       "      <td>1.000000</td>\n",
       "      <td>1.000000</td>\n",
       "      <td>1.000000</td>\n",
       "      <td>18.000000</td>\n",
       "      <td>1.000000</td>\n",
       "      <td>1.000000</td>\n",
       "      <td>1.000000</td>\n",
       "      <td>1.000000</td>\n",
       "      <td>...</td>\n",
       "      <td>-100.000000</td>\n",
       "      <td>-100.000000</td>\n",
       "      <td>-100.000000</td>\n",
       "      <td>1.000000</td>\n",
       "      <td>1.000000</td>\n",
       "      <td>1.000000</td>\n",
       "      <td>1.000000</td>\n",
       "      <td>0.000000</td>\n",
       "      <td>0.151342</td>\n",
       "      <td>1.231309e+09</td>\n",
       "    </tr>\n",
       "    <tr>\n",
       "      <th>25%</th>\n",
       "      <td>1.000000</td>\n",
       "      <td>3.000000</td>\n",
       "      <td>1.000000</td>\n",
       "      <td>2.000000</td>\n",
       "      <td>1.000000</td>\n",
       "      <td>38.000000</td>\n",
       "      <td>4.000000</td>\n",
       "      <td>1.000000</td>\n",
       "      <td>2.000000</td>\n",
       "      <td>1.666667</td>\n",
       "      <td>...</td>\n",
       "      <td>-69.000000</td>\n",
       "      <td>-85.000000</td>\n",
       "      <td>-80.500000</td>\n",
       "      <td>1.333333</td>\n",
       "      <td>1.333333</td>\n",
       "      <td>3.000000</td>\n",
       "      <td>3.428571</td>\n",
       "      <td>0.000000</td>\n",
       "      <td>0.687275</td>\n",
       "      <td>1.238288e+09</td>\n",
       "    </tr>\n",
       "    <tr>\n",
       "      <th>50%</th>\n",
       "      <td>2.000000</td>\n",
       "      <td>5.000000</td>\n",
       "      <td>2.000000</td>\n",
       "      <td>4.000000</td>\n",
       "      <td>1.000000</td>\n",
       "      <td>55.000000</td>\n",
       "      <td>7.000000</td>\n",
       "      <td>2.000000</td>\n",
       "      <td>3.000000</td>\n",
       "      <td>2.666667</td>\n",
       "      <td>...</td>\n",
       "      <td>-19.000000</td>\n",
       "      <td>-39.000000</td>\n",
       "      <td>-38.000000</td>\n",
       "      <td>2.333333</td>\n",
       "      <td>2.000000</td>\n",
       "      <td>4.000000</td>\n",
       "      <td>4.000000</td>\n",
       "      <td>0.000000</td>\n",
       "      <td>0.873552</td>\n",
       "      <td>1.240534e+09</td>\n",
       "    </tr>\n",
       "    <tr>\n",
       "      <th>75%</th>\n",
       "      <td>4.000000</td>\n",
       "      <td>6.000000</td>\n",
       "      <td>2.000000</td>\n",
       "      <td>5.000000</td>\n",
       "      <td>2.000000</td>\n",
       "      <td>65.000000</td>\n",
       "      <td>10.000000</td>\n",
       "      <td>3.000000</td>\n",
       "      <td>4.000000</td>\n",
       "      <td>3.333333</td>\n",
       "      <td>...</td>\n",
       "      <td>53.000000</td>\n",
       "      <td>76.500000</td>\n",
       "      <td>63.500000</td>\n",
       "      <td>3.666667</td>\n",
       "      <td>3.000000</td>\n",
       "      <td>5.000000</td>\n",
       "      <td>4.714286</td>\n",
       "      <td>2.000000</td>\n",
       "      <td>1.061262</td>\n",
       "      <td>1.245970e+09</td>\n",
       "    </tr>\n",
       "    <tr>\n",
       "      <th>max</th>\n",
       "      <td>4.000000</td>\n",
       "      <td>7.000000</td>\n",
       "      <td>2.000000</td>\n",
       "      <td>6.000000</td>\n",
       "      <td>2.000000</td>\n",
       "      <td>92.000000</td>\n",
       "      <td>97.000000</td>\n",
       "      <td>3.000000</td>\n",
       "      <td>6.000000</td>\n",
       "      <td>5.000000</td>\n",
       "      <td>...</td>\n",
       "      <td>100.000000</td>\n",
       "      <td>100.000000</td>\n",
       "      <td>100.000000</td>\n",
       "      <td>6.000000</td>\n",
       "      <td>6.000000</td>\n",
       "      <td>5.000000</td>\n",
       "      <td>5.000000</td>\n",
       "      <td>3.000000</td>\n",
       "      <td>6.474958</td>\n",
       "      <td>1.261039e+09</td>\n",
       "    </tr>\n",
       "  </tbody>\n",
       "</table>\n",
       "<p>8 rows × 21 columns</p>\n",
       "</div>"
      ],
      "text/plain": [
       "       pew_religimp  pew_churatd         sex        educ    nonwhite  \\\n",
       "count    659.000000   659.000000  659.000000  659.000000  659.000000   \n",
       "mean       2.342944     4.294385    1.559939    3.813354    1.254932   \n",
       "std        1.192998     1.725409    0.496771    1.471121    0.436154   \n",
       "min        1.000000     1.000000    1.000000    1.000000    1.000000   \n",
       "25%        1.000000     3.000000    1.000000    2.000000    1.000000   \n",
       "50%        2.000000     5.000000    2.000000    4.000000    1.000000   \n",
       "75%        4.000000     6.000000    2.000000    5.000000    2.000000   \n",
       "max        4.000000     7.000000    2.000000    6.000000    2.000000   \n",
       "\n",
       "              age  faminc_new        pid3       ideo5  QueerPhobia  ...  \\\n",
       "count  659.000000  659.000000  659.000000  659.000000   659.000000  ...   \n",
       "mean    52.180577   15.908953    1.977238    3.083460     2.600910  ...   \n",
       "std     16.842264   27.724506    0.860002    1.282575     1.163468  ...   \n",
       "min     18.000000    1.000000    1.000000    1.000000     1.000000  ...   \n",
       "25%     38.000000    4.000000    1.000000    2.000000     1.666667  ...   \n",
       "50%     55.000000    7.000000    2.000000    3.000000     2.666667  ...   \n",
       "75%     65.000000   10.000000    3.000000    4.000000     3.333333  ...   \n",
       "max     92.000000   97.000000    3.000000    6.000000     5.000000  ...   \n",
       "\n",
       "       InterGBiasParty  InterGBiasCand  InterGBiasSup  LibMediaUse  \\\n",
       "count       659.000000      659.000000     659.000000   659.000000   \n",
       "mean         -8.842185      -11.842185     -12.740516     2.551846   \n",
       "std          66.363025       76.647176      73.005149     1.370851   \n",
       "min        -100.000000     -100.000000    -100.000000     1.000000   \n",
       "25%         -69.000000      -85.000000     -80.500000     1.333333   \n",
       "50%         -19.000000      -39.000000     -38.000000     2.333333   \n",
       "75%          53.000000       76.500000      63.500000     3.666667   \n",
       "max         100.000000      100.000000     100.000000     6.000000   \n",
       "\n",
       "       ConMediaUse  Real_Threat  Symb_Threat  Evaluation  teamweight  \\\n",
       "count   659.000000   659.000000   659.000000  659.000000  659.000000   \n",
       "mean      2.361659     3.792109     3.937785    0.886191    0.960561   \n",
       "std       1.279250     1.108405     0.966180    1.056507    0.588837   \n",
       "min       1.000000     1.000000     1.000000    0.000000    0.151342   \n",
       "25%       1.333333     3.000000     3.428571    0.000000    0.687275   \n",
       "50%       2.000000     4.000000     4.000000    0.000000    0.873552   \n",
       "75%       3.000000     5.000000     4.714286    2.000000    1.061262   \n",
       "max       6.000000     5.000000     5.000000    3.000000    6.474958   \n",
       "\n",
       "             caseid  \n",
       "count  6.590000e+02  \n",
       "mean   1.242790e+09  \n",
       "std    6.136802e+06  \n",
       "min    1.231309e+09  \n",
       "25%    1.238288e+09  \n",
       "50%    1.240534e+09  \n",
       "75%    1.245970e+09  \n",
       "max    1.261039e+09  \n",
       "\n",
       "[8 rows x 21 columns]"
      ]
     },
     "execution_count": 35,
     "metadata": {},
     "output_type": "execute_result"
    }
   ],
   "source": [
    "df.describe()"
   ]
  },
  {
   "cell_type": "markdown",
   "id": "300ec155-238e-4f0d-9092-59f29aa6406b",
   "metadata": {},
   "source": [
    "### Creating an empty figure that contains two axes stored as a matrix ###"
   ]
  },
  {
   "cell_type": "code",
   "execution_count": 36,
   "id": "3ce06d18-3752-4bdc-9fed-92b52b55fb7e",
   "metadata": {},
   "outputs": [
    {
     "data": {
      "image/png": "[encoded data removed]",
      "text/plain": [
       "<Figure size 1500x500 with 2 Axes>"
      ]
     },
     "metadata": {},
     "output_type": "display_data"
    }
   ],
   "source": [
    "fig1, (ax1, ax2) = plt.subplots(1, 2, figsize=(15, 5))"
   ]
  },
  {
   "cell_type": "markdown",
   "id": "f3a9fc99-ea02-469e-a641-f0ee3e41d07e",
   "metadata": {},
   "source": [
    "**Set the title for the first axes as \"Age Histogram\" <br>\n",
    "Set the title for the second axes as \"Political Identity\"**"
   ]
  },
  {
   "cell_type": "code",
   "execution_count": 37,
   "id": "dd7951c8-7de6-41eb-8bb5-e4bbeac424f8",
   "metadata": {},
   "outputs": [
    {
     "data": {
      "image/png": "[encoded data removed]",
      "text/plain": [
       "<Figure size 1500x500 with 2 Axes>"
      ]
     },
     "metadata": {},
     "output_type": "display_data"
    }
   ],
   "source": [
    "fig1, (ax1, ax2) = plt.subplots(1, 2, figsize=(15, 5))\n",
    "ax1.set_title('Age Histogram')\n",
    "ax2.set_title('Political Identity')\n",
    "\n",
    "plt.show() "
   ]
  },
  {
   "cell_type": "markdown",
   "id": "b4fab7de-e6d7-4951-8cd5-3b7713142c08",
   "metadata": {},
   "source": [
    "**In a new code cell, create and show a figure that includes one axes that displays a bar plot of the frequencies of responses in the `Evaluation` variable**"
   ]
  },
  {
   "cell_type": "markdown",
   "id": "d10cc340-a7eb-4471-87e7-e83c7974725f",
   "metadata": {},
   "source": [
    "**I chose to use the groupby method based on the teamweight column**"
   ]
  },
  {
   "cell_type": "code",
   "execution_count": 38,
   "id": "08771f11-9228-47a9-8bfa-bdcd5c024733",
   "metadata": {},
   "outputs": [
    {
     "data": {
      "text/plain": [
       "Index([0, 1, 2, 3], dtype='int64', name='Evaluation')"
      ]
     },
     "execution_count": 38,
     "metadata": {},
     "output_type": "execute_result"
    }
   ],
   "source": [
    "eva_freq = df.groupby('Evaluation')['teamweight'].count()\n",
    "eva_freq.index"
   ]
  },
  {
   "cell_type": "code",
   "execution_count": 39,
   "id": "38f1618b-668f-46a4-a894-edc4be5a0967",
   "metadata": {},
   "outputs": [
    {
     "data": {
      "image/png": "[encoded data removed]",
      "text/plain": [
       "<Figure size 1500x500 with 1 Axes>"
      ]
     },
     "metadata": {},
     "output_type": "display_data"
    }
   ],
   "source": [
    "fig3, ax3 = plt.subplots(figsize = (15, 5))\n",
    "ax3.bar(x= eva_freq.index, height = eva_freq, color='lightgreen')\n",
    "plt.show()"
   ]
  },
  {
   "cell_type": "markdown",
   "id": "4b54e0a6-3e11-4eb7-920c-006530723c69",
   "metadata": {},
   "source": [
    "**In a new code cell, create and show a figure that includes one axes that displays a scatter plot of the `ConMediaUse` and `ImmiPhobia` variables**"
   ]
  },
  {
   "cell_type": "code",
   "execution_count": 46,
   "id": "4d865495-797e-4fcd-9f6c-83912e198a14",
   "metadata": {},
   "outputs": [
    {
     "data": {
      "image/png": "[encoded data removed]",
      "text/plain": [
       "<Figure size 1500x500 with 1 Axes>"
      ]
     },
     "metadata": {},
     "output_type": "display_data"
    }
   ],
   "source": [
    "fig4, ax4 = plt.subplots(figsize=(15, 5))\n",
    "ax4.scatter(x=df['ConMediaUse'], y=df['ImmiPhobia'], color='blue')\n",
    "ax4.set_xlabel('ConMediaUse')\n",
    "ax4.set_ylabel('ImmiPhobia')\n",
    "ax4.set_title('scatter plot of the ConMediaUse and ImmiPhobia variables')\n",
    "plt.show()"
   ]
  },
  {
   "cell_type": "markdown",
   "id": "91a3fce5-d95e-4db7-9414-535cc19b765e",
   "metadata": {},
   "source": [
    "**To address the issue of overlapping points in scatter plots, we can use partial transparency. By making individual points partially transparent, overlapping points become darker, allowing the shade to indicate density in specific areas of the graph.**"
   ]
  },
  {
   "cell_type": "markdown",
   "id": "827deacc-125b-44bf-9be9-dccc52628791",
   "metadata": {},
   "source": [
    "**Also, For larger or more complex datasets, making scatter plots interactive can really boost their usability. This way, viewers can hover over individual points to reveal specific values, filter data on the fly, or zoom in on areas that interest them. It adds a whole new level of engagement and makes exploring the data much more intuitive.**"
   ]
  },
  {
   "cell_type": "markdown",
   "id": "9dccbddf-0510-4ade-8f26-d5cdfb4daf9d",
   "metadata": {},
   "source": [
    "**We can also add more shapes for different variables so it can be read more easily to see the difference and/or search for tendencies and correlations in scatter plot. I can calculate how many points are in each area, then add contour lines to illustrate the various densities. This can show patterns and aid in the visualization of variations across the plot**"
   ]
  },
  {
   "cell_type": "markdown",
   "id": "21252dfe-9e6b-498b-ad22-9e241abf53e8",
   "metadata": {},
   "source": [
    "**By applying these techniques, i can significantly improve the clarity and usability of scatter plot, making it a more effective tool for data analysis.**"
   ]
  },
  {
   "cell_type": "markdown",
   "id": "a6578266-8e8e-4792-a632-f16ce85513e6",
   "metadata": {},
   "source": [
    "**References: Wilke, C. O. (n.d.). Fundamentals of Data Visualization. https://clauswilke.com/dataviz/overlapping-points.html**"
   ]
  },
  {
   "cell_type": "code",
   "execution_count": null,
   "id": "744f1a19-fc87-4f8f-bb84-821a5665b604",
   "metadata": {},
   "outputs": [],
   "source": []
  }
 ],
 "metadata": {
  "kernelspec": {
   "display_name": "Python 3 (ipykernel)",
   "language": "python",
   "name": "python3"
  },
  "language_info": {
   "codemirror_mode": {
    "name": "ipython",
    "version": 3
   },
   "file_extension": ".py",
   "mimetype": "text/x-python",
   "name": "python",
   "nbconvert_exporter": "python",
   "pygments_lexer": "ipython3",
   "version": "3.12.4"
  }
 },
 "nbformat": 4,
 "nbformat_minor": 5
}
