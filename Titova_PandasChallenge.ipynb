{
 "cells": [
  {
   "cell_type": "markdown",
   "id": "2a8899bb-3fbb-42dd-b27c-05b3277f18de",
   "metadata": {},
   "source": [
    "# Pandas challenge #\n",
    "## Elizaveta Titova ##"
   ]
  },
  {
   "cell_type": "code",
   "execution_count": 29,
   "id": "f9c5a050-ab20-4dbb-80ba-06fa32be5aed",
   "metadata": {},
   "outputs": [],
   "source": [
    "import pandas as pd"
   ]
  },
  {
   "cell_type": "code",
   "execution_count": 30,
   "id": "58c5f811-0db4-4a5e-be01-dc77ee938f1f",
   "metadata": {},
   "outputs": [],
   "source": [
    "my_data = {'Label': ['Toyota', 'Honda', 'Ford'],\n",
    "    'Model': ['Corolla', 'Civic', 'Mustang'],\n",
    "    'Year': [2020, 2019, 2021]}\n",
    "my_df = pd.DataFrame(my_data)"
   ]
  },
  {
   "cell_type": "code",
   "execution_count": 31,
   "id": "3273e19e-1304-4f83-9eb0-91f9bdf598dd",
   "metadata": {},
   "outputs": [
    {
     "data": {
      "text/html": [
       "<div>\n",
       "<style scoped>\n",
       "    .dataframe tbody tr th:only-of-type {\n",
       "        vertical-align: middle;\n",
       "    }\n",
       "\n",
       "    .dataframe tbody tr th {\n",
       "        vertical-align: top;\n",
       "    }\n",
       "\n",
       "    .dataframe thead th {\n",
       "        text-align: right;\n",
       "    }\n",
       "</style>\n",
       "<table border=\"1\" class=\"dataframe\">\n",
       "  <thead>\n",
       "    <tr style=\"text-align: right;\">\n",
       "      <th></th>\n",
       "      <th>Label</th>\n",
       "      <th>Model</th>\n",
       "      <th>Year</th>\n",
       "    </tr>\n",
       "  </thead>\n",
       "  <tbody>\n",
       "    <tr>\n",
       "      <th>0</th>\n",
       "      <td>Toyota</td>\n",
       "      <td>Corolla</td>\n",
       "      <td>2020</td>\n",
       "    </tr>\n",
       "    <tr>\n",
       "      <th>1</th>\n",
       "      <td>Honda</td>\n",
       "      <td>Civic</td>\n",
       "      <td>2019</td>\n",
       "    </tr>\n",
       "    <tr>\n",
       "      <th>2</th>\n",
       "      <td>Ford</td>\n",
       "      <td>Mustang</td>\n",
       "      <td>2021</td>\n",
       "    </tr>\n",
       "  </tbody>\n",
       "</table>\n",
       "</div>"
      ],
      "text/plain": [
       "    Label    Model  Year\n",
       "0  Toyota  Corolla  2020\n",
       "1   Honda    Civic  2019\n",
       "2    Ford  Mustang  2021"
      ]
     },
     "execution_count": 31,
     "metadata": {},
     "output_type": "execute_result"
    }
   ],
   "source": [
    "my_df"
   ]
  },
  {
   "cell_type": "code",
   "execution_count": 32,
   "id": "3e15cf20-b3fb-4f4d-8297-251b06398d14",
   "metadata": {},
   "outputs": [
    {
     "data": {
      "text/html": [
       "<div>\n",
       "<style scoped>\n",
       "    .dataframe tbody tr th:only-of-type {\n",
       "        vertical-align: middle;\n",
       "    }\n",
       "\n",
       "    .dataframe tbody tr th {\n",
       "        vertical-align: top;\n",
       "    }\n",
       "\n",
       "    .dataframe thead th {\n",
       "        text-align: right;\n",
       "    }\n",
       "</style>\n",
       "<table border=\"1\" class=\"dataframe\">\n",
       "  <thead>\n",
       "    <tr style=\"text-align: right;\">\n",
       "      <th></th>\n",
       "      <th>Label</th>\n",
       "      <th>Model</th>\n",
       "      <th>Year</th>\n",
       "    </tr>\n",
       "  </thead>\n",
       "  <tbody>\n",
       "    <tr>\n",
       "      <th>0</th>\n",
       "      <td>Toyota</td>\n",
       "      <td>Corolla</td>\n",
       "      <td>2020</td>\n",
       "    </tr>\n",
       "  </tbody>\n",
       "</table>\n",
       "</div>"
      ],
      "text/plain": [
       "    Label    Model  Year\n",
       "0  Toyota  Corolla  2020"
      ]
     },
     "execution_count": 32,
     "metadata": {},
     "output_type": "execute_result"
    }
   ],
   "source": [
    "my_df.head(1)"
   ]
  },
  {
   "cell_type": "code",
   "execution_count": 33,
   "id": "1ed28437-b6ad-4a66-b904-963e16dc18b3",
   "metadata": {},
   "outputs": [
    {
     "data": {
      "text/plain": [
       "RangeIndex(start=0, stop=3, step=1)"
      ]
     },
     "execution_count": 33,
     "metadata": {},
     "output_type": "execute_result"
    }
   ],
   "source": [
    "my_df.index"
   ]
  },
  {
   "cell_type": "code",
   "execution_count": 34,
   "id": "92e71491-557b-41db-adbb-8379f3d13253",
   "metadata": {},
   "outputs": [
    {
     "data": {
      "text/plain": [
       "0    Toyota\n",
       "1     Honda\n",
       "2      Ford\n",
       "Name: Label, dtype: object"
      ]
     },
     "execution_count": 34,
     "metadata": {},
     "output_type": "execute_result"
    }
   ],
   "source": [
    "my_df['Label']"
   ]
  },
  {
   "cell_type": "code",
   "execution_count": 35,
   "id": "c80c85f4-691e-437d-a95d-64b8c3ded96b",
   "metadata": {},
   "outputs": [
    {
     "data": {
      "text/plain": [
       "Label     Toyota\n",
       "Model    Corolla\n",
       "Year        2020\n",
       "Name: 0, dtype: object"
      ]
     },
     "execution_count": 35,
     "metadata": {},
     "output_type": "execute_result"
    }
   ],
   "source": [
    "my_df.loc[0]"
   ]
  },
  {
   "cell_type": "code",
   "execution_count": 36,
   "id": "a0422d8b-52dd-4fce-90d6-336070f4c225",
   "metadata": {},
   "outputs": [
    {
     "data": {
      "text/plain": [
       "Label    Honda\n",
       "Model    Civic\n",
       "Year      2019\n",
       "Name: 1, dtype: object"
      ]
     },
     "execution_count": 36,
     "metadata": {},
     "output_type": "execute_result"
    }
   ],
   "source": [
    "my_df.iloc[1]"
   ]
  },
  {
   "cell_type": "markdown",
   "id": "6a6afb90-3e40-4dc7-9170-385be5c9b712",
   "metadata": {},
   "source": [
    "## New data frame ##"
   ]
  },
  {
   "cell_type": "code",
   "execution_count": 37,
   "id": "235da0b3-9db4-47bb-9dec-9d3b3cfbe50d",
   "metadata": {},
   "outputs": [],
   "source": [
    "new_data = [ ['Toyota', 'Corolla', 2020],\n",
    "    ['Honda', 'Civic', 2019],\n",
    "    ['Ford', 'Mustang', 2021]]"
   ]
  },
  {
   "cell_type": "code",
   "execution_count": 38,
   "id": "414e2c80-0fbd-4645-b73a-e5efe3f107a1",
   "metadata": {},
   "outputs": [],
   "source": [
    "colnames = ['Label', 'Model', 'Year'] #defining column names"
   ]
  },
  {
   "cell_type": "code",
   "execution_count": 39,
   "id": "116c226e-1070-4895-8f6c-fb4bf959bcc2",
   "metadata": {},
   "outputs": [],
   "source": [
    "new_df = pd.DataFrame(new_data, columns=colnames)"
   ]
  },
  {
   "cell_type": "code",
   "execution_count": 40,
   "id": "e87b0382-0080-414f-b815-607a769f6257",
   "metadata": {},
   "outputs": [
    {
     "data": {
      "text/html": [
       "<div>\n",
       "<style scoped>\n",
       "    .dataframe tbody tr th:only-of-type {\n",
       "        vertical-align: middle;\n",
       "    }\n",
       "\n",
       "    .dataframe tbody tr th {\n",
       "        vertical-align: top;\n",
       "    }\n",
       "\n",
       "    .dataframe thead th {\n",
       "        text-align: right;\n",
       "    }\n",
       "</style>\n",
       "<table border=\"1\" class=\"dataframe\">\n",
       "  <thead>\n",
       "    <tr style=\"text-align: right;\">\n",
       "      <th></th>\n",
       "      <th>Label</th>\n",
       "      <th>Model</th>\n",
       "      <th>Year</th>\n",
       "    </tr>\n",
       "  </thead>\n",
       "  <tbody>\n",
       "    <tr>\n",
       "      <th>0</th>\n",
       "      <td>Toyota</td>\n",
       "      <td>Corolla</td>\n",
       "      <td>2020</td>\n",
       "    </tr>\n",
       "    <tr>\n",
       "      <th>1</th>\n",
       "      <td>Honda</td>\n",
       "      <td>Civic</td>\n",
       "      <td>2019</td>\n",
       "    </tr>\n",
       "    <tr>\n",
       "      <th>2</th>\n",
       "      <td>Ford</td>\n",
       "      <td>Mustang</td>\n",
       "      <td>2021</td>\n",
       "    </tr>\n",
       "  </tbody>\n",
       "</table>\n",
       "</div>"
      ],
      "text/plain": [
       "    Label    Model  Year\n",
       "0  Toyota  Corolla  2020\n",
       "1   Honda    Civic  2019\n",
       "2    Ford  Mustang  2021"
      ]
     },
     "execution_count": 40,
     "metadata": {},
     "output_type": "execute_result"
    }
   ],
   "source": [
    "new_df"
   ]
  },
  {
   "cell_type": "markdown",
   "id": "274b8586-0131-4f8e-9036-1ddbd0c91c05",
   "metadata": {},
   "source": [
    "## Saving dataframe as csv file ##"
   ]
  },
  {
   "cell_type": "code",
   "execution_count": 41,
   "id": "9b006286-66d2-45ff-91d0-e50c2b67929f",
   "metadata": {},
   "outputs": [],
   "source": [
    "my_df.to_csv('Titova_PandasChallenge.csv')"
   ]
  },
  {
   "cell_type": "markdown",
   "id": "32358221-a6cb-4cc0-af99-e7848c9b47cc",
   "metadata": {},
   "source": [
    "1. **What does the \"write/render/evaluate\" loop provide for creators of interactive data visualizations?**"
   ]
  },
  {
   "cell_type": "markdown",
   "id": "939c7e56-f279-425c-bd56-ad0cdbf7cd94",
   "metadata": {},
   "source": [
    "*Creators are able to rapidly test and improve various visualizations by iterating through this loop, adjusting their design in response to real-time feedback. The development of more insightful and useful visualizations is made possible by this iterative process, which enables quick experimentation with different strategies. Large datasets and complicated visual mappings can be handled efficiently by the \"write/render/evaluate\" loop by utilizing computer power; doing so manually would be laborious and slow.*"
   ]
  },
  {
   "cell_type": "markdown",
   "id": "e10b5709-e67f-4163-b698-f6e08f5315db",
   "metadata": {},
   "source": [
    "2. **Why are dynamic, interactive data visualizations useful when communicating data?**"
   ]
  },
  {
   "cell_type": "markdown",
   "id": "a10c9ac5-43f4-49eb-9e7b-495e482ca0a9",
   "metadata": {},
   "source": [
    "*Data can be communicated more effectively with dynamic, interactive data visualizations because they let users interact and explore the information in a more meaningful personalized way.\n",
    "Various goals can be successfully accomplished by an interactive visualization that offers tools for in-depth investigation in addition to a broad overview of the data. It serves a range of audiences, from those who are well-versed in the subject to those who are not. Such visualizations have the power to captivate and engage people who might not otherwise be interested in the topic by enabling users to explore the data interactively and delve into specifics.*"
   ]
  },
  {
   "cell_type": "markdown",
   "id": "e1cd0b43-5323-4b77-bc7c-d4a869b77c99",
   "metadata": {},
   "source": [
    "3. **Do you agree with Murray's claim that open-source tools that avoid proprietary software are best for publishing data visualization? In a few sentences, explain why you do or do not agree.**"
   ]
  },
  {
   "cell_type": "markdown",
   "id": "e0e29d2e-9ca2-433a-9129-b91d3657ef43",
   "metadata": {},
   "source": [
    "*Murray makes the point that open-source software can often be superior for distributing data visualizations, and I agree with this statement. I think that open-source tools are easier to use and work on a wider range of platforms than proprietary software, which could restrict the audience for your visualizations. They also have a tendency to be more adaptable and flexible, which promotes more creativity. These tools are open source, so community contributions and ongoing development can contribute to their robustness and innovation, which we will all benefit from.*"
   ]
  },
  {
   "cell_type": "code",
   "execution_count": null,
   "id": "4af6fae6-f2a9-4fed-aa47-69076858025f",
   "metadata": {},
   "outputs": [],
   "source": []
  }
 ],
 "metadata": {
  "kernelspec": {
   "display_name": "Python 3 (ipykernel)",
   "language": "python",
   "name": "python3"
  },
  "language_info": {
   "codemirror_mode": {
    "name": "ipython",
    "version": 3
   },
   "file_extension": ".py",
   "mimetype": "text/x-python",
   "name": "python",
   "nbconvert_exporter": "python",
   "pygments_lexer": "ipython3",
   "version": "3.12.4"
  }
 },
 "nbformat": 4,
 "nbformat_minor": 5
}
